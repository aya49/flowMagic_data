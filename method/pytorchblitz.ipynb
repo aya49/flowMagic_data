{
  "nbformat": 4,
  "nbformat_minor": 0,
  "metadata": {
    "colab": {
      "name": "pytorchblitz.ipynb",
      "provenance": [],
      "mount_file_id": "1LZa_86fqZi3634BK9HVsuwEpmkgdUQh8",
      "authorship_tag": "ABX9TyMjuP9aTMU6MVLML9q3WCni",
      "include_colab_link": true
    },
    "kernelspec": {
      "name": "python3",
      "display_name": "Python 3"
    }
  },
  "cells": [
    {
      "cell_type": "markdown",
      "metadata": {
        "id": "view-in-github",
        "colab_type": "text"
      },
      "source": [
        "<a href=\"https://colab.research.google.com/github/aya49/flowMagic_test/blob/main/pytorchblitz.ipynb\" target=\"_parent\"><img src=\"https://colab.research.google.com/assets/colab-badge.svg\" alt=\"Open In Colab\"/></a>"
      ]
    },
    {
      "cell_type": "markdown",
      "metadata": {
        "id": "T0VGQs0t74fr"
      },
      "source": [
        "# Pytorch 60min blitz\n",
        "\n",
        "https://pytorch.org/tutorials/beginner/blitz/tensor_tutorial.html#sphx-glr-beginner-blitz-tensor-tutorial-py\n",
        "\n",
        "About: Pytorch is a GPU NumPy"
      ]
    },
    {
      "cell_type": "code",
      "metadata": {
        "id": "8uvoWFqB7vm1"
      },
      "source": [
        "from __future__ import print_function\n",
        "import numpy as np\n",
        "import torch\n",
        "import torch.nn as nn\n",
        "import torch.nn.functional as F\n",
        "import torch.optim as optim\n",
        "import torchvision\n",
        "import torchvision.transforms as transforms\n",
        "import matplotlib.pyplot as plt\n",
        "import timeit\n",
        "import os"
      ],
      "execution_count": 2,
      "outputs": []
    },
    {
      "cell_type": "code",
      "metadata": {
        "colab": {
          "base_uri": "https://localhost:8080/",
          "height": 36
        },
        "id": "am8xlLZcFMK6",
        "outputId": "2caed1b1-06e2-4798-d0f0-29d9b92ab80e"
      },
      "source": [
        "os.getcwd()"
      ],
      "execution_count": 3,
      "outputs": [
        {
          "output_type": "execute_result",
          "data": {
            "application/vnd.google.colaboratory.intrinsic+json": {
              "type": "string"
            },
            "text/plain": [
              "'/content'"
            ]
          },
          "metadata": {
            "tags": []
          },
          "execution_count": 3
        }
      ]
    },
    {
      "cell_type": "markdown",
      "metadata": {
        "id": "E0HDRDPpAb5M"
      },
      "source": [
        "## `torch.Tensor` = ndarrays on GPU's + stores gradients wrt tensor\n",
        "\n",
        "Initialization"
      ]
    },
    {
      "cell_type": "code",
      "metadata": {
        "id": "Vmletx3a9gmu",
        "colab": {
          "base_uri": "https://localhost:8080/",
          "height": 513
        },
        "outputId": "5b3b3df5-ed99-441a-d53e-3a4ad754acf1"
      },
      "source": [
        "x = torch.empty(5,3) # 5 rows x 3 cols empty matrix initialized with whatever values in memory\n",
        "print(x)\n",
        "x = torch.rand(5,3)\n",
        "print(x)\n",
        "x = torch.zeros(5,3, dtype=torch.long)\n",
        "print(x)\n",
        "x = torch.tensor([5.7,3])\n",
        "print(x)\n",
        "x = x.new_ones(5,3, dtype=torch.double) # takes in sizes\n",
        "print(x)\n",
        "x = torch.randn_like(x, dtype=torch.float)\n",
        "print(x)\n",
        "\n",
        "print(x.size()) # tuple"
      ],
      "execution_count": null,
      "outputs": [
        {
          "output_type": "stream",
          "text": [
            "tensor([[9.2276e-36, 0.0000e+00, 3.3631e-44],\n",
            "        [0.0000e+00,        nan, 0.0000e+00],\n",
            "        [4.4721e+21, 1.5956e+25, 4.7399e+16],\n",
            "        [3.7293e-08, 1.2516e-01, 5.4791e-01],\n",
            "        [8.2966e-02, 2.4792e-01, 4.4324e-01]])\n",
            "tensor([[0.4375, 0.2890, 0.3701],\n",
            "        [0.3332, 0.0127, 0.2664],\n",
            "        [0.5388, 0.6094, 0.5601],\n",
            "        [0.8692, 0.1287, 0.4997],\n",
            "        [0.9105, 0.3578, 0.6735]])\n",
            "tensor([[0, 0, 0],\n",
            "        [0, 0, 0],\n",
            "        [0, 0, 0],\n",
            "        [0, 0, 0],\n",
            "        [0, 0, 0]])\n",
            "tensor([5.7000, 3.0000])\n",
            "tensor([[1., 1., 1.],\n",
            "        [1., 1., 1.],\n",
            "        [1., 1., 1.],\n",
            "        [1., 1., 1.],\n",
            "        [1., 1., 1.]], dtype=torch.float64)\n",
            "tensor([[ 0.8928, -0.4377,  2.0547],\n",
            "        [ 0.0429, -1.9768, -0.8068],\n",
            "        [-0.8232,  0.5002, -0.2720],\n",
            "        [-0.6848, -2.2044,  1.5039],\n",
            "        [-0.6223,  0.0755,  0.8858]])\n",
            "torch.Size([5, 3])\n"
          ],
          "name": "stdout"
        }
      ]
    },
    {
      "cell_type": "markdown",
      "metadata": {
        "id": "Jfw6jNY5BUth"
      },
      "source": [
        "Operations"
      ]
    },
    {
      "cell_type": "code",
      "metadata": {
        "id": "ql0FaHK0BW7D"
      },
      "source": [
        "# add\n",
        "y = torch.rand(5, 3)\n",
        "z = x + y\n",
        "print(z)\n",
        "z = torch.add(x, y)\n",
        "print(z)\n",
        "torch.add(x, y, out=z)\n",
        "print(z)\n",
        "y.add_(x) # mutates tensor; these functions end with _ e.g. x.copy_(y), x.t_()\n",
        "print(y)"
      ],
      "execution_count": null,
      "outputs": []
    },
    {
      "cell_type": "code",
      "metadata": {
        "id": "6Y0C-tXyyfGq"
      },
      "source": [
        "# NumPy-like indexing\n",
        "print(x[:, 1])\n",
        "print(x[1, :])"
      ],
      "execution_count": null,
      "outputs": []
    },
    {
      "cell_type": "code",
      "metadata": {
        "id": "GhjhKT8byf3e",
        "colab": {
          "base_uri": "https://localhost:8080/",
          "height": 182
        },
        "outputId": "da0c2f89-1b45-4cf0-fcb5-9dd9d5b11bfa"
      },
      "source": [
        "# resize/reshape tensor\n",
        "x = torch.randn(4,4)\n",
        "y = x.view(16)\n",
        "z = x.view(-1, 8)  # the size -1 is inferred from other dimensions\n",
        "print(x.size(), y.size(), z.size())\n",
        "print(x)\n",
        "print(y)\n",
        "print(z)"
      ],
      "execution_count": null,
      "outputs": [
        {
          "output_type": "stream",
          "text": [
            "torch.Size([4, 4]) torch.Size([16]) torch.Size([2, 8])\n",
            "tensor([[ 0.9968, -0.7254, -0.6890,  0.2245],\n",
            "        [-1.3150, -0.3868,  0.3986,  0.8721],\n",
            "        [-0.2168, -1.5288,  0.7834,  1.1503],\n",
            "        [ 1.0178, -0.8915, -0.5528, -0.8309]])\n",
            "tensor([ 0.9968, -0.7254, -0.6890,  0.2245, -1.3150, -0.3868,  0.3986,  0.8721,\n",
            "        -0.2168, -1.5288,  0.7834,  1.1503,  1.0178, -0.8915, -0.5528, -0.8309])\n",
            "tensor([[ 0.9968, -0.7254, -0.6890,  0.2245, -1.3150, -0.3868,  0.3986,  0.8721],\n",
            "        [-0.2168, -1.5288,  0.7834,  1.1503,  1.0178, -0.8915, -0.5528, -0.8309]])\n"
          ],
          "name": "stdout"
        }
      ]
    },
    {
      "cell_type": "code",
      "metadata": {
        "id": "rvcLtFuj0ORG"
      },
      "source": [
        "# get one element as number\n",
        "x = torch.randn(1)\n",
        "print(x)\n",
        "print(x.item())"
      ],
      "execution_count": null,
      "outputs": []
    },
    {
      "cell_type": "code",
      "metadata": {
        "id": "zCylOkDW0z-f",
        "colab": {
          "base_uri": "https://localhost:8080/",
          "height": 201
        },
        "outputId": "537f4082-4e38-432f-bfaa-8f0667e69629"
      },
      "source": [
        "# convert torch tensor to numpy array; \n",
        "# all tensor except CharTensor share the same memory location on CPU\n",
        "a = torch.ones(2,5)\n",
        "b = a.numpy()\n",
        "print(a)\n",
        "print(b)\n",
        "\n",
        "a.add_(1)\n",
        "print(a)\n",
        "print(b)\n",
        "\n",
        "b = np.ones(5)\n",
        "a = torch.from_numpy(b)\n",
        "np.add(b, 1, out=b)\n",
        "print(a)\n",
        "print(b)"
      ],
      "execution_count": null,
      "outputs": [
        {
          "output_type": "stream",
          "text": [
            "tensor([[1., 1., 1., 1., 1.],\n",
            "        [1., 1., 1., 1., 1.]])\n",
            "[[1. 1. 1. 1. 1.]\n",
            " [1. 1. 1. 1. 1.]]\n",
            "tensor([[2., 2., 2., 2., 2.],\n",
            "        [2., 2., 2., 2., 2.]])\n",
            "[[2. 2. 2. 2. 2.]\n",
            " [2. 2. 2. 2. 2.]]\n",
            "tensor([2., 2., 2., 2., 2.], dtype=torch.float64)\n",
            "[2. 2. 2. 2. 2.]\n"
          ],
          "name": "stdout"
        }
      ]
    },
    {
      "cell_type": "markdown",
      "metadata": {
        "id": "1eFIhLlp25qr"
      },
      "source": [
        "CUDA tensors"
      ]
    },
    {
      "cell_type": "code",
      "metadata": {
        "id": "QEMuMYy_2855"
      },
      "source": [
        "# run only if CUDA is available\n",
        "if torch.cuda.is_available():\n",
        "  device = cuda.device(\"cuda\")\n",
        "  y = torch.ones_like(x, device=device) # create tensor on GPU _like\n",
        "  x = x.to(device) # or put into GPU\n",
        "  z = x + y\n",
        "  z = z.to(\"CPU\", dtype=torch.double)\n",
        "  print(z)"
      ],
      "execution_count": null,
      "outputs": []
    },
    {
      "cell_type": "markdown",
      "metadata": {
        "id": "SR0MiwP650o_"
      },
      "source": [
        "## `autograd.Function`: automatic differentiation for all operations on tensors by implementing `forward` and `backward` definitions of an `autograd` operation.\n",
        "\n",
        "**`Function` class object** + **`torch.Tensor` class object** = acyclic graph encoding a complete history of computation.\n",
        "\n",
        "`torch.Tensor` = ndarray + tracks all gradients/operations on it wrt tensors if `.requires_grad=True`; supports `autograd` functions like `backwards()`\n",
        "- `.grad_fn` attribute references a `Function` that created the Tensor (Tensors created by user: `grad_fn` is None).\n",
        "- `.grad` attribute stores gradients calculated by calling `torch.Tensor.backward()`.\n",
        "- `.backward()` method calculates gradients; need to specify `gradient` argument if `Tensor` not a scalar (hold 1 element data)\n",
        "\n",
        "To stop tensor from stop tracking computation, use `.detach()`; can also wrap code with `with torch.no_grad():`. helpful when evaluating a models with trainable parameters where `requires_grad=True`, but for which we don’t need the gradients."
      ]
    },
    {
      "cell_type": "markdown",
      "metadata": {
        "id": "8epa348-03tn"
      },
      "source": [
        "changing `requires_grad` attribute"
      ]
    },
    {
      "cell_type": "code",
      "metadata": {
        "id": "KYLFVJr_09qr",
        "colab": {
          "base_uri": "https://localhost:8080/",
          "height": 90
        },
        "outputId": "102a168a-d26d-4e0a-b684-a080deae7b92"
      },
      "source": [
        "a = torch.randn(2,2)\n",
        "a = ((a*3) / (a-1))\n",
        "print(a.requires_grad) # defaults to False\n",
        "\n",
        "a.requires_grad_(True)\n",
        "print(a.requires_grad)\n",
        "\n",
        "b = (a * a).sum() # inherits\n",
        "print(b.requires_grad)\n",
        "print(b.grad_fn)"
      ],
      "execution_count": null,
      "outputs": [
        {
          "output_type": "stream",
          "text": [
            "False\n",
            "True\n",
            "True\n",
            "<SumBackward0 object at 0x7f6f6cb299e8>\n"
          ],
          "name": "stdout"
        }
      ]
    },
    {
      "cell_type": "code",
      "metadata": {
        "id": "1LvEqBwhyTwm",
        "colab": {
          "base_uri": "https://localhost:8080/",
          "height": 146
        },
        "outputId": "c6bc7a5c-a635-4e6c-df87-4867efd3550a"
      },
      "source": [
        "x = torch.ones(2,2, requires_grad=True)\n",
        "print(x)\n",
        "y = x + 2\n",
        "print(y) # y was created by an operation\n",
        "\n",
        "z = y * y * 3\n",
        "print(z)\n",
        "out = z.mean()\n",
        "print(out)"
      ],
      "execution_count": null,
      "outputs": [
        {
          "output_type": "stream",
          "text": [
            "tensor([[1., 1.],\n",
            "        [1., 1.]], requires_grad=True)\n",
            "tensor([[3., 3.],\n",
            "        [3., 3.]], grad_fn=<AddBackward0>)\n",
            "tensor([[27., 27.],\n",
            "        [27., 27.]], grad_fn=<MulBackward0>)\n",
            "tensor(27., grad_fn=<MeanBackward0>)\n"
          ],
          "name": "stdout"
        }
      ]
    },
    {
      "cell_type": "markdown",
      "metadata": {
        "id": "r4vEnGao9nkW"
      },
      "source": [
        "gradients: back propagation"
      ]
    },
    {
      "cell_type": "code",
      "metadata": {
        "id": "TghiXBySDS4f",
        "colab": {
          "base_uri": "https://localhost:8080/",
          "height": 109
        },
        "outputId": "83972c46-8d4b-4d39-d4fc-fc74f8e4f252"
      },
      "source": [
        "out.backward()\n",
        "# out.backward(gradient=torch.tensor(1.))\n",
        "\n",
        "print(x.grad) # gradient d(out)/dx\n",
        "print(x)\n",
        "print(out)"
      ],
      "execution_count": null,
      "outputs": [
        {
          "output_type": "stream",
          "text": [
            "tensor([[4.5000, 4.5000],\n",
            "        [4.5000, 4.5000]])\n",
            "tensor([[1., 1.],\n",
            "        [1., 1.]], requires_grad=True)\n",
            "tensor(27., grad_fn=<MeanBackward0>)\n"
          ],
          "name": "stdout"
        }
      ]
    },
    {
      "cell_type": "code",
      "metadata": {
        "id": "DTUO_zKtXBH3",
        "colab": {
          "base_uri": "https://localhost:8080/",
          "height": 201
        },
        "outputId": "9cad0d40-8a16-45d1-87e4-e0877963c84b"
      },
      "source": [
        "x = torch.randn(3, requires_grad=True)\n",
        "y = x * 2\n",
        "while y.data.norm() < 1000:\n",
        "  print(y.data.norm())\n",
        "  y = y * 2\n",
        "\n",
        "print(y) # y is not a scalar anymore\n",
        "\n",
        "# vector-Jacobian product\n",
        "v = torch.tensor([0.1, 1.0, 0.0001], dtype=torch.float)\n",
        "y.backward(v)\n",
        "\n",
        "print(x.grad)"
      ],
      "execution_count": null,
      "outputs": [
        {
          "output_type": "stream",
          "text": [
            "tensor(7.1603)\n",
            "tensor(14.3207)\n",
            "tensor(28.6413)\n",
            "tensor(57.2827)\n",
            "tensor(114.5654)\n",
            "tensor(229.1308)\n",
            "tensor(458.2616)\n",
            "tensor(916.5231)\n",
            "tensor([  297.4769, -1417.3617, -1123.6777], grad_fn=<MulBackward0>)\n",
            "tensor([5.1200e+01, 5.1200e+02, 5.1200e-02])\n"
          ],
          "name": "stdout"
        }
      ]
    },
    {
      "cell_type": "markdown",
      "metadata": {
        "id": "8b_D8V5DbcKI"
      },
      "source": [
        "stop autograd from tracking history on tensors"
      ]
    },
    {
      "cell_type": "code",
      "metadata": {
        "id": "7BiUVMw2bgnQ",
        "colab": {
          "base_uri": "https://localhost:8080/",
          "height": 127
        },
        "outputId": "51f48913-a995-4aa6-8352-0f75ddcc0d3b"
      },
      "source": [
        "print(x.requires_grad)\n",
        "print((x ** 2).requires_grad)\n",
        "\n",
        "print(x)\n",
        "print(x ** 2)\n",
        "\n",
        "with torch.no_grad():\n",
        "    print((x ** 2).requires_grad)"
      ],
      "execution_count": null,
      "outputs": [
        {
          "output_type": "stream",
          "text": [
            "True\n",
            "True\n",
            "tensor([ 0.5810, -2.7683, -2.1947], requires_grad=True)\n",
            "16\n",
            "tensor([0.3376, 7.6634, 4.8166], grad_fn=<PowBackward0>)\n",
            "False\n"
          ],
          "name": "stdout"
        }
      ]
    },
    {
      "cell_type": "markdown",
      "metadata": {
        "id": "VSeMZkMhb-PQ"
      },
      "source": [
        "copy a Tensor but drop gradients"
      ]
    },
    {
      "cell_type": "code",
      "metadata": {
        "id": "dsM2yL_VcGko",
        "colab": {
          "base_uri": "https://localhost:8080/",
          "height": 90
        },
        "outputId": "69ec47f6-9c34-4c68-f14f-3c260e108efb"
      },
      "source": [
        "print(x.requires_grad)\n",
        "y = x.detach()\n",
        "print(y.requires_grad)\n",
        "print(x.eq(y).all()) # all(x == y)"
      ],
      "execution_count": null,
      "outputs": [
        {
          "output_type": "stream",
          "text": [
            "True\n",
            "False\n",
            "tensor(True)\n",
            "tensor([True, True, True])\n"
          ],
          "name": "stdout"
        }
      ]
    },
    {
      "cell_type": "markdown",
      "metadata": {
        "id": "EXGiDUTQfq6g"
      },
      "source": [
        "## `torch.nn` package: `nn.Modeule` class = neural network module encapsulates parameters"
      ]
    },
    {
      "cell_type": "markdown",
      "metadata": {
        "id": "IhgobIRsfx84"
      },
      "source": [
        "define network `nn.Module` = layers + `forward(input)` method that returns `output`; with helpers for moving them to GPU, exporting, loading, etc.\n",
        "\n",
        "define `forward` (with tensor operations) and `autograd` automatically defines `backward` (calculates gradients)\n",
        "\n",
        "`torch.nn` only supports mini-batch of samples as inputs, and not a single sample. e.g. `nn.Conv2d` will take in a 4D Tensor of: `nSamples x nChannels x Height x Width`. For single samples, just `input.unsqueeze(0)` to add a fake batch dimension.\n",
        "\n",
        "`nn.Parameter`: A Tensor that is automatically registered as a parameter when assigned as an attribute to a `Module`.\n"
      ]
    },
    {
      "cell_type": "markdown",
      "metadata": {
        "id": "gzOHL16ChKk_"
      },
      "source": [
        "![image.png](https://pytorch.org/tutorials/_images/mnist.png)"
      ]
    },
    {
      "cell_type": "code",
      "metadata": {
        "id": "_mdC9Ni5fqW4",
        "colab": {
          "base_uri": "https://localhost:8080/",
          "height": 146
        },
        "outputId": "96371938-c13e-4e32-8a34-63be79b5e737"
      },
      "source": [
        "class Net(nn.Module):\n",
        "  def __init__(self):\n",
        "    super(Net, self).__init__()\n",
        "    # 3x3 square convolution\n",
        "    self.conv1 = nn.Conv2d(1, 6, 3) # 1 input image > 6 output channels\n",
        "    self.conv2 = nn.Conv2d(6, 16, 3) # 6 input > 16 output channels\n",
        "    # an affine operation: y = Wx + b\n",
        "    self.fc1 = nn.Linear(16 * 6 * 6, 120) # 16 channels x 6*6 image dimension > 120 +\n",
        "    self.fc2 = nn.Linear(120, 84)\n",
        "    self.fc3 = nn.Linear(84, 10)\n",
        "\n",
        "  def forward(self, x):\n",
        "    # Max pooling over a (2, 2) window\n",
        "    x = F.max_pool2d(F.relu(self.conv1(x)), (2, 2))\n",
        "    # If the size is a square you can only specify a single number\n",
        "    x = F.max_pool2d(F.relu(self.conv2(x)), 2)\n",
        "    x = x.view(-1, self.num_flat_features(x))\n",
        "    x = F.relu(self.fc1(x))\n",
        "    x = F.relu(self.fc2(x))\n",
        "    x = self.fc3(x)\n",
        "    return x\n",
        "\n",
        "  def num_flat_features(self, x):\n",
        "    size = x.size()[1:]  # all dimensions except the batch dimension\n",
        "    num_features = 1\n",
        "    for s in size:\n",
        "      num_features *= s\n",
        "    return num_features\n",
        "\n",
        "# input -> conv2d -> relu -> maxpool2d -> conv2d -> relu -> maxpool2d\n",
        "#       -> view -> linear -> relu -> linear -> relu -> linear\n",
        "#       -> MSELoss\n",
        "#       -> loss\n",
        "#       <- loss.backward(): calculate gradient, differentiate wrt loss\n",
        "      \n",
        "# network layers\n",
        "net = Net()\n",
        "print(net)\n",
        "\n",
        "# learnable parameters\n",
        "params = list(net.parameters())\n",
        "print(len(params))\n",
        "print(params[0].size())  # conv1's .weight"
      ],
      "execution_count": null,
      "outputs": [
        {
          "output_type": "stream",
          "text": [
            "Net(\n",
            "  (conv1): Conv2d(1, 6, kernel_size=(3, 3), stride=(1, 1))\n",
            "  (conv2): Conv2d(6, 16, kernel_size=(3, 3), stride=(1, 1))\n",
            "  (fc1): Linear(in_features=576, out_features=120, bias=True)\n",
            "  (fc2): Linear(in_features=120, out_features=84, bias=True)\n",
            "  (fc3): Linear(in_features=84, out_features=10, bias=True)\n",
            ")\n"
          ],
          "name": "stdout"
        }
      ]
    },
    {
      "cell_type": "markdown",
      "metadata": {
        "id": "jH0EgsL_VdP-"
      },
      "source": [
        "input: random 32 x 32"
      ]
    },
    {
      "cell_type": "code",
      "metadata": {
        "id": "G9U94l7HVh9N",
        "colab": {
          "base_uri": "https://localhost:8080/",
          "height": 54
        },
        "outputId": "a55608a7-43d1-4baf-e8af-3c7518a098d8"
      },
      "source": [
        "# nSamples x nChannels x Height x Width. For single samples, just input.unsqueeze(0) twice\n",
        "input = torch.randn(1, 1, 32, 32)\n",
        "out = net(input)\n",
        "print(out)\n",
        "\n",
        "# Zero the gradient buffers of all parameters + backprop with random gradient\n",
        "net.zero_grad()\n",
        "out.backward(torch.randn(1, 10))"
      ],
      "execution_count": null,
      "outputs": [
        {
          "output_type": "stream",
          "text": [
            "tensor([[ 0.0157,  0.0444,  0.0553, -0.0129, -0.0123, -0.0068, -0.0252, -0.1041,\n",
            "          0.0969, -0.0712]], grad_fn=<AddmmBackward>)\n"
          ],
          "name": "stdout"
        }
      ]
    },
    {
      "cell_type": "markdown",
      "metadata": {
        "id": "lFVA4qTVi_9a"
      },
      "source": [
        "### Loss function\n",
        "\n",
        "input: `(output, target)`\n",
        "\n",
        "output: distance\n",
        "\n",
        "loss functions: https://pytorch.org/docs/nn.html#loss-functions"
      ]
    },
    {
      "cell_type": "code",
      "metadata": {
        "id": "nS4_vwlvjeQS",
        "colab": {
          "base_uri": "https://localhost:8080/",
          "height": 54
        },
        "outputId": "404ae6b0-00a0-4acc-d967-93f25a201393"
      },
      "source": [
        "output = net(input)\n",
        "target = torch.randn(10)  # a dummy target, for example [10]\n",
        "target = target.view(1, -1)  # make it the same shape as output [1, 10]\n",
        "print(target.size())\n",
        "\n",
        "criterion = nn.MSELoss()\n",
        "loss = criterion(output, target)\n",
        "print(loss)\n",
        "print(loss.grad_fn)  # MSELoss\n",
        "print(loss.grad_fn.next_functions[0][0])  # Linear\n",
        "print(loss.grad_fn.next_functions[0][0].next_functions[0][0])  # ReLU"
      ],
      "execution_count": null,
      "outputs": [
        {
          "output_type": "stream",
          "text": [
            "torch.Size([1, 10])\n",
            "tensor(0.5137, grad_fn=<MseLossBackward>)\n"
          ],
          "name": "stdout"
        }
      ]
    },
    {
      "cell_type": "markdown",
      "metadata": {
        "id": "REYjcJ9dpXdj"
      },
      "source": [
        "## backprop"
      ]
    },
    {
      "cell_type": "markdown",
      "metadata": {
        "id": "VO6P9TqEp_s1"
      },
      "source": [
        "backpropagate the error with `loss.backward()`\n",
        "\n",
        "need to clear existing gradients, else gradients will be accumulated to existing gradients.\n",
        "\n",
        "modules and loss functions: https://pytorch.org/docs/nn"
      ]
    },
    {
      "cell_type": "code",
      "metadata": {
        "id": "7LqZvPuMprCp",
        "colab": {
          "base_uri": "https://localhost:8080/",
          "height": 109
        },
        "outputId": "30a0e6c7-006b-4b54-c40e-253a5a23de47"
      },
      "source": [
        "net.zero_grad() # zeroes the gradient buffers of all parameters\n",
        "\n",
        "print('conv1.bias.grad before backward')\n",
        "print(net.conv1.bias.grad)\n",
        "\n",
        "loss.backward()\n",
        "\n",
        "# conv1’s bias gradients before and after the backward\n",
        "print('conv1.bias.grad after backward')\n",
        "print(net.conv1.bias.grad)"
      ],
      "execution_count": null,
      "outputs": [
        {
          "output_type": "stream",
          "text": [
            "conv1.bias.grad before backward\n",
            "tensor([0., 0., 0., 0., 0., 0.])\n",
            "conv1.bias.grad after backward\n",
            "tensor([ 1.6879e-03,  7.6034e-03,  2.8099e-03,  5.5014e-03, -5.7640e-05,\n",
            "         2.7964e-03])\n"
          ],
          "name": "stdout"
        }
      ]
    },
    {
      "cell_type": "markdown",
      "metadata": {
        "id": "X_r2EMJ9q2GI"
      },
      "source": [
        "## `torch.optim` package: update weights (gradient descent)"
      ]
    },
    {
      "cell_type": "markdown",
      "metadata": {
        "id": "RYLrYdZJq7_x"
      },
      "source": [
        "stochastic gradient descent:\n",
        "\n",
        "    weight = weight - learning_rate * gradient"
      ]
    },
    {
      "cell_type": "code",
      "metadata": {
        "id": "LC45K0T4q-oh"
      },
      "source": [
        "learning_rate = 0.01\n",
        "for f in net.parameters():\n",
        "  f.data.sub_(f.grad.data * learning_rate)"
      ],
      "execution_count": null,
      "outputs": []
    },
    {
      "cell_type": "markdown",
      "metadata": {
        "id": "jyeirGcRsVya"
      },
      "source": [
        "other types of gradient descent:"
      ]
    },
    {
      "cell_type": "code",
      "metadata": {
        "id": "PirJPoIpsYSH"
      },
      "source": [
        "# create optimizer\n",
        "optimizer = optim.SGD(net.parameters(), lr=0.01)\n",
        "\n",
        "# training loop:\n",
        "optimizer.zero_grad() # zero the gradient buffers; gradients are accumulated\n",
        "output = net(input)\n",
        "loss = criterion(output, target)\n",
        "loss.backward()\n",
        "optimizer.step() # update"
      ],
      "execution_count": null,
      "outputs": []
    },
    {
      "cell_type": "markdown",
      "metadata": {
        "id": "4I_d8B1CtORT"
      },
      "source": [
        "## data\n",
        "\n",
        "packackes to process different types of data before turning them into tensors with `torch.*Tensor`\n",
        "- images e.g. Pillow, OpenCV, `torchvision` has data loaders for datasets such as Imagenet, CIFAR10, MNIST, etc. and data transformers for images, viz., `torchvision.datasets` and `torch.utils.data.DataLoader`\n",
        "- audio e.g. scipy, librosa\n",
        "- text e.g. Python/Cython loading, NLTK, SpaCY\n",
        "\n",
        "For this tutorial, we will use the CIFAR10 dataset. It has the classes: ‘airplane’, ‘automobile’, ‘bird’, ‘cat’, ‘deer’, ‘dog’, ‘frog’, ‘horse’, ‘ship’, ‘truck’. The images in CIFAR-10 are of size 3x32x32, i.e. 3-channel color images of 32x32 pixels in size.\n",
        "\n",
        "1. Load and normalizing the CIFAR10 training and test datasets using torchvision\n",
        "2. Define a Convolutional Neural Network\n",
        "3. Define a loss function\n",
        "4. Train the network on the training data\n",
        "5. Test the network on the test data\n"
      ]
    },
    {
      "cell_type": "code",
      "metadata": {
        "id": "Kaf43aLDxSRd",
        "colab": {
          "base_uri": "https://localhost:8080/",
          "height": 193
        },
        "outputId": "ab203043-a0ff-4d1b-be64-5851b6a6e914"
      },
      "source": [
        "# 1. Load and normalizing the CIFAR10 training and test datasets using torchvision\n",
        "\n",
        "# If Windows and error BrokenPipeError, set num_worker of torch.utils.data.DataLoader() to 0.\n",
        "\n",
        "# torchvision datasets are PILImage images of range [0, 1]. \n",
        "# transform them to Tensors of normalized range [-1, 1].\n",
        "transform = transforms.Compose( [transforms.ToTensor(), transforms.Normalize((0.5, 0.5, 0.5), (0.5, 0.5, 0.5))] )\n",
        "\n",
        "trainset = torchvision.datasets.CIFAR10(root='./data', train=True, download=True, transform=transform)\n",
        "trainloader = torch.utils.data.DataLoader(trainset, batch_size=4, shuffle=True, num_workers=2)\n",
        "\n",
        "testset = torchvision.datasets.CIFAR10(root='./data', train=False, download=True, transform=transform)\n",
        "testloader = torch.utils.data.DataLoader(testset, batch_size=4, shuffle=False, num_workers=2)\n",
        "\n",
        "classes = ('plane', 'car', 'bird', 'cat', 'deer', 'dog', 'frog', 'horse', 'ship', 'truck')\n",
        "\n",
        "# functions to show an image\n",
        "def imshow(img):\n",
        "    img = img / 2 + 0.5 # unnormalize\n",
        "    npimg = img.numpy()\n",
        "    plt.imshow(np.transpose(npimg, (1, 2, 0)))\n",
        "    plt.show()\n",
        "\n",
        "# get random training images\n",
        "dataiter = iter(trainloader)\n",
        "images, labels = dataiter.next()\n",
        "\n",
        "# show images\n",
        "imshow(torchvision.utils.make_grid(images))\n",
        "# print labels\n",
        "print(' '.join('%5s' % classes[labels[j]] for j in range(4)))"
      ],
      "execution_count": null,
      "outputs": [
        {
          "output_type": "stream",
          "text": [
            "Files already downloaded and verified\n",
            "Files already downloaded and verified\n"
          ],
          "name": "stdout"
        },
        {
          "output_type": "display_data",
          "data": {
            "image/png": "[encoded data removed]",
            "text/plain": [
              "<Figure size 432x288 with 1 Axes>"
            ]
          },
          "metadata": {
            "tags": [],
            "needs_background": "light"
          }
        },
        {
          "output_type": "stream",
          "text": [
            " frog  frog plane  deer\n"
          ],
          "name": "stdout"
        }
      ]
    },
    {
      "cell_type": "code",
      "metadata": {
        "id": "dqQ9_WJ8yT8a"
      },
      "source": [
        "# 2. Define a Convolutional Neural Network\n",
        "\n",
        "class Net(nn.Module):\n",
        "    def __init__(self):\n",
        "        super(Net, self).__init__()\n",
        "        self.conv1 = nn.Conv2d(3, 6, 5) # 3 input channels\n",
        "        self.pool = nn.MaxPool2d(2, 2)\n",
        "        self.conv2 = nn.Conv2d(6, 16, 5)\n",
        "        self.fc1 = nn.Linear(16 * 5 * 5, 120)\n",
        "        self.fc2 = nn.Linear(120, 84)\n",
        "        self.fc3 = nn.Linear(84, 10)\n",
        "\n",
        "    def forward(self, x):\n",
        "        x = self.pool(F.relu(self.conv1(x)))\n",
        "        x = self.pool(F.relu(self.conv2(x)))\n",
        "        x = x.view(-1, 16 * 5 * 5)\n",
        "        x = F.relu(self.fc1(x))\n",
        "        x = F.relu(self.fc2(x))\n",
        "        x = self.fc3(x)\n",
        "        return x\n",
        "\n",
        "net = Net()\n",
        "\n",
        "# 3. Define a Loss function and optimizer\n",
        "criterion = nn.CrossEntropyLoss()\n",
        "optimizer = optim.SGD(net.parameters(), lr=0.001, momentum=0.9)"
      ],
      "execution_count": null,
      "outputs": []
    },
    {
      "cell_type": "code",
      "metadata": {
        "id": "lipk4MprpciH",
        "colab": {
          "base_uri": "https://localhost:8080/",
          "height": 256
        },
        "outputId": "1a332894-620c-4053-f288-38099003f794"
      },
      "source": [
        "# 4. Train the network\n",
        "\n",
        "start = timeit.default_timer()\n",
        "for epoch in range(2):  # loop over the dataset 2 times\n",
        "\n",
        "    running_loss = 0.0\n",
        "    for i, data in enumerate(trainloader, 0):\n",
        "        # get the inputs; data is a list of [inputs, labels]\n",
        "        inputs, labels = data\n",
        "\n",
        "        # zero the parameter gradients\n",
        "        optimizer.zero_grad()\n",
        "\n",
        "        # forward + backward + optimize\n",
        "        outputs = net(inputs)\n",
        "        loss = criterion(outputs, labels)\n",
        "        loss.backward()\n",
        "        optimizer.step()\n",
        "\n",
        "        # print statistics\n",
        "        running_loss += loss.item()\n",
        "        if i % 2000 == 1999:    # print every 2000 mini-batches\n",
        "            print('[%d, %5d] loss: %.3f' %\n",
        "                  (epoch + 1, i + 1, running_loss / 2000))\n",
        "            running_loss = 0.0\n",
        "stop = timeit.default_timer()\n",
        "print('Finished Training', stop - start)\n",
        "\n",
        "# save trained model\n",
        "PATH = './cifar_net.pth'\n",
        "torch.save(net.state_dict(), PATH)"
      ],
      "execution_count": null,
      "outputs": [
        {
          "output_type": "stream",
          "text": [
            "[1,  2000] loss: 1.445\n",
            "[1,  4000] loss: 1.396\n",
            "[1,  6000] loss: 1.361\n",
            "[1,  8000] loss: 1.339\n",
            "[1, 10000] loss: 1.308\n",
            "[1, 12000] loss: 1.275\n",
            "[2,  2000] loss: 1.241\n",
            "[2,  4000] loss: 1.219\n",
            "[2,  6000] loss: 1.230\n",
            "[2,  8000] loss: 1.200\n",
            "[2, 10000] loss: 1.198\n",
            "[2, 12000] loss: 1.181\n",
            "Finished Training 153.92176498199842\n"
          ],
          "name": "stdout"
        }
      ]
    },
    {
      "cell_type": "code",
      "metadata": {
        "id": "6_fLKkYlp9UL"
      },
      "source": [
        "# 5. Test the network on the test data\n",
        "# If the prediction is correct, we add the sample to the list of correct predictions.\n",
        "\n",
        "dataiter = iter(testloader)\n",
        "images, labels = dataiter.next()\n",
        "\n",
        "# display an image from the test set\n",
        "imshow(torchvision.utils.make_grid(images))\n",
        "print('GroundTruth: ', ' '.join('%5s' % classes[labels[j]] for j in range(4)))\n",
        "\n",
        "# load saved model\n",
        "net = Net()\n",
        "net.load_state_dict(torch.load(PATH))\n",
        "\n",
        "# test output\n",
        "outputs = net(images)\n",
        "_, predicted = torch.max(outputs, 1)\n",
        "\n",
        "print(prediced)\n",
        "print('Predicted: ', ' '.join('%5s' % classes[predicted[j]]\n",
        "                              for j in range(4)))\n",
        "\n",
        "# test whole test data set (much better than 10% chance)\n",
        "correct = 0\n",
        "total = 0\n",
        "with torch.no_grad():\n",
        "    for data in testloader:\n",
        "        images, labels = data\n",
        "        outputs = net(images)\n",
        "        _, predicted = torch.max(outputs.data, 1)\n",
        "        total += labels.size(0)\n",
        "        correct += (predicted == labels).sum().item()\n",
        "\n",
        "print('Accuracy of the network on the 10000 test images: %d %%' % (\n",
        "    100 * correct / total))\n",
        "\n",
        "# classes that did well\n",
        "class_correct = list(0. for i in range(10))\n",
        "class_total = list(0. for i in range(10))\n",
        "with torch.no_grad():\n",
        "    for data in testloader:\n",
        "        images, labels = data\n",
        "        outputs = net(images)\n",
        "        _, predicted = torch.max(outputs, 1)\n",
        "        c = (predicted == labels).squeeze()\n",
        "        for i in range(4):\n",
        "            label = labels[i]\n",
        "            class_correct[label] += c[i].item()\n",
        "            class_total[label] += 1\n",
        "\n",
        "print(\"\\nclasses that did well\")\n",
        "for i in range(10):\n",
        "    print('Accuracy of %5s : %2d %%' % (\n",
        "        classes[i], 100 * class_correct[i] / class_total[i]))"
      ],
      "execution_count": null,
      "outputs": []
    },
    {
      "cell_type": "code",
      "metadata": {
        "id": "LcEqSo_NrVmN"
      },
      "source": [
        "# 5.5 training on a gpu (transfer a model onto a gpu the same way we transfer a tensor)\n",
        "\n",
        "# make device\n",
        "device = torch.device(\"cuda:0\" if torch.cuda.is_available() else \"cpu\")\n",
        "\n",
        "# Assuming that we are on a CUDA machine, this should print a CUDA device:\n",
        "print(device) # cuda:0\n",
        "\n",
        "# recursively go over all modules and convert their parameters and buffers to CUDA tensors\n",
        "net.to(device)\n",
        "\n",
        "# also send the inputs and targets at every step to the GPU too\n",
        "inputs, labels = data[0].to(device), data[1].to(device)"
      ],
      "execution_count": null,
      "outputs": []
    }
  ]
}